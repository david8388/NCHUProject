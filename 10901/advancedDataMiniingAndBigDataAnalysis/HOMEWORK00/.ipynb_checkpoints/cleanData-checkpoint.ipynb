{
 "cells": [
  {
   "cell_type": "code",
   "execution_count": 104,
   "metadata": {},
   "outputs": [],
   "source": [
    "import pandas as pd\n",
    "import numpy as np\n",
    "import matplotlib.pyplot as plt"
   ]
  },
  {
   "cell_type": "code",
   "execution_count": 105,
   "metadata": {},
   "outputs": [],
   "source": [
    "df = pd.read_csv('pm2.5Taiwan.csv')\n",
    "\n",
    "# Location should be 大里 && item should be PM2.5 \n",
    "df = df.loc[(df['測站']=='大里') & (df['測項']=='PM2.5')]\n",
    "\n",
    "# Iterate columns which is hour(E.g: 00 01 ... 23)\n",
    "for columnName in df.columns[df.columns.str.isnumeric()]:\n",
    "    df[columnName] = df[columnName].str.extract('(^\\d*)').fillna(0).replace('', 0) # Extract number from string && replace nan/empty with zero \n",
    "\n",
    "# Write data to result.csv with overwrite if file is exists.\n",
    "df.to_csv(\"result.csv\", index=False, mode='w')"
   ]
  },
  {
   "cell_type": "code",
   "execution_count": null,
   "metadata": {},
   "outputs": [],
   "source": []
  }
 ],
 "metadata": {
  "kernelspec": {
   "display_name": "Python 3",
   "language": "python",
   "name": "python3"
  },
  "language_info": {
   "codemirror_mode": {
    "name": "ipython",
    "version": 3
   },
   "file_extension": ".py",
   "mimetype": "text/x-python",
   "name": "python",
   "nbconvert_exporter": "python",
   "pygments_lexer": "ipython3",
   "version": "3.7.3"
  }
 },
 "nbformat": 4,
 "nbformat_minor": 2
}

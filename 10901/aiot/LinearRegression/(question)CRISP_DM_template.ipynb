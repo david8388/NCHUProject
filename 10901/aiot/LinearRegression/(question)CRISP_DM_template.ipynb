{
 "cells": [
  {
   "cell_type": "markdown",
   "metadata": {
    "collapsed": true
   },
   "source": [
    "# L6 : Linear Regression (Follow CRISP-DM)\n",
    "<img src=\"crisp.png\" >"
   ]
  },
  {
   "cell_type": "code",
   "execution_count": 60,
   "metadata": {},
   "outputs": [],
   "source": [
    "import pandas as pd\n",
    "import numpy as np\n",
    "import matplotlib.pyplot as plt\n",
    "%matplotlib inline\n",
    "from sklearn.linear_model import LinearRegression as LR\n",
    "from sklearn.metrics import r2_score"
   ]
  },
  {
   "cell_type": "markdown",
   "metadata": {},
   "source": [
    "## Step 1: Load Data "
   ]
  },
  {
   "cell_type": "code",
   "execution_count": 57,
   "metadata": {},
   "outputs": [
    {
     "name": "stdout",
     "output_type": "stream",
     "text": [
      "<class 'pandas.core.frame.DataFrame'>\n",
      "RangeIndex: 29 entries, 0 to 28\n",
      "Data columns (total 2 columns):\n",
      "h    29 non-null int64\n",
      "v    29 non-null float64\n",
      "dtypes: float64(1), int64(1)\n",
      "memory usage: 544.0 bytes\n",
      "      h       v\n",
      "0   139   551.5\n",
      "1    43   215.5\n",
      "2   140   555.0\n",
      "3   100   415.0\n",
      "4   161   628.5\n",
      "5   288  1073.0\n",
      "6   200   765.0\n",
      "7   289  1076.5\n",
      "8   122   492.0\n",
      "9   203   775.5\n",
      "10   73   320.5\n",
      "11   34   184.0\n",
      "12  157   614.5\n",
      "13   15   117.5\n",
      "14  136   541.0\n",
      "15   18   128.0\n",
      "16   53   250.5\n",
      "17  293  1090.5\n",
      "18  257   964.5\n",
      "19  131   523.5\n",
      "20   58   268.0\n",
      "21  278  1038.0\n",
      "22  185   712.5\n",
      "23  274  1024.0\n",
      "24  148   583.0\n",
      "25  184   709.0\n",
      "26  173   670.5\n",
      "27  275  1027.5\n",
      "28  207   789.5 None\n"
     ]
    },
    {
     "data": {
      "text/plain": [
       "<matplotlib.axes._subplots.AxesSubplot at 0x1a1f4417b8>"
      ]
     },
     "execution_count": 57,
     "metadata": {},
     "output_type": "execute_result"
    },
    {
     "data": {
      "image/png": "[encoded data removed]",
      "text/plain": [
       "<Figure size 432x288 with 1 Axes>"
      ]
     },
     "metadata": {
      "needs_background": "light"
     },
     "output_type": "display_data"
    }
   ],
   "source": [
    "data = pd.read_csv(\"training2.csv\")\n",
    "print(data, data.info())\n",
    "data.plot('h','v')"
   ]
  },
  {
   "cell_type": "markdown",
   "metadata": {},
   "source": [
    "## Step 2: Prepare X, Y"
   ]
  },
  {
   "cell_type": "code",
   "execution_count": 58,
   "metadata": {},
   "outputs": [
    {
     "name": "stdout",
     "output_type": "stream",
     "text": [
      "X=[[139]\n",
      " [ 43]\n",
      " [140]\n",
      " [100]\n",
      " [161]\n",
      " [288]\n",
      " [200]\n",
      " [289]\n",
      " [122]\n",
      " [203]\n",
      " [ 73]\n",
      " [ 34]\n",
      " [157]\n",
      " [ 15]\n",
      " [136]\n",
      " [ 18]\n",
      " [ 53]\n",
      " [293]\n",
      " [257]\n",
      " [131]\n",
      " [ 58]\n",
      " [278]\n",
      " [185]\n",
      " [274]\n",
      " [148]\n",
      " [184]\n",
      " [173]\n",
      " [275]\n",
      " [207]],TypeOfX=<class 'numpy.ndarray'>,Y=[[ 551.5]\n",
      " [ 215.5]\n",
      " [ 555. ]\n",
      " [ 415. ]\n",
      " [ 628.5]\n",
      " [1073. ]\n",
      " [ 765. ]\n",
      " [1076.5]\n",
      " [ 492. ]\n",
      " [ 775.5]\n",
      " [ 320.5]\n",
      " [ 184. ]\n",
      " [ 614.5]\n",
      " [ 117.5]\n",
      " [ 541. ]\n",
      " [ 128. ]\n",
      " [ 250.5]\n",
      " [1090.5]\n",
      " [ 964.5]\n",
      " [ 523.5]\n",
      " [ 268. ]\n",
      " [1038. ]\n",
      " [ 712.5]\n",
      " [1024. ]\n",
      " [ 583. ]\n",
      " [ 709. ]\n",
      " [ 670.5]\n",
      " [1027.5]\n",
      " [ 789.5]],TypeOfY=<class 'numpy.ndarray'>\n"
     ]
    }
   ],
   "source": [
    "X = data['h'].values.reshape(-1,1) # reshape(col, row)\n",
    "Y = data['v'].values.reshape(-1,1)\n",
    "print(\"X={},TypeOfX={},Y={},TypeOfY={}\".format(X, type(X),Y, type(Y)))"
   ]
  },
  {
   "cell_type": "markdown",
   "metadata": {},
   "source": [
    "## Step 3: Model Training"
   ]
  },
  {
   "cell_type": "code",
   "execution_count": 61,
   "metadata": {},
   "outputs": [
    {
     "name": "stdout",
     "output_type": "stream",
     "text": [
      "Slope(斜率)=[[3.5]],Intercept(截距)=[65.]\n"
     ]
    }
   ],
   "source": [
    "model = LR()\n",
    "model.fit(X,Y)\n",
    "print(\"Slope(斜率)={},Intercept(截距)={}\".format(model.coef_, model.intercept_))"
   ]
  },
  {
   "cell_type": "markdown",
   "metadata": {},
   "source": [
    "## Step 4: Model Evaluation"
   ]
  },
  {
   "cell_type": "code",
   "execution_count": 63,
   "metadata": {},
   "outputs": [
    {
     "name": "stdout",
     "output_type": "stream",
     "text": [
      "1.0 1.0\n"
     ]
    }
   ],
   "source": [
    "score = model.score(X,Y)\n",
    "preY = model.predict(X)\n",
    "print(score, r2_score(Y, preY))"
   ]
  },
  {
   "cell_type": "markdown",
   "metadata": {},
   "source": [
    "## Step 5: Deploy (Predict)"
   ]
  },
  {
   "cell_type": "code",
   "execution_count": 75,
   "metadata": {},
   "outputs": [
    {
     "name": "stdout",
     "output_type": "stream",
     "text": [
      "data:     x   y\n",
      "0  765 NaN\n",
      "1  212 NaN\n",
      "2  235 NaN\n",
      "3  654 NaN\n",
      "4  476 NaN\n",
      "class:  ndarray\n",
      "shape:  (38, 1)\n",
      "strides:  (8, 8)\n",
      "itemsize:  8\n",
      "aligned:  True\n",
      "contiguous:  True\n",
      "fortran:  True\n",
      "data pointer: 0x7ff6dee68e40\n",
      "byteorder:  little\n",
      "byteswap:  False\n",
      "type: int64\n",
      "[[765]\n",
      " [212]\n",
      " [235]\n",
      " [654]\n",
      " [476]\n",
      " [342]\n",
      " [176]\n",
      " [739]\n",
      " [965]\n",
      " [532]\n",
      " [124]\n",
      " [205]\n",
      " [192]\n",
      " [248]\n",
      " [ 83]\n",
      " [981]\n",
      " [731]\n",
      " [972]\n",
      " [338]\n",
      " [ 32]\n",
      " [879]\n",
      " [136]\n",
      " [645]\n",
      " [  1]\n",
      " [ 74]\n",
      " [ 29]\n",
      " [901]\n",
      " [480]\n",
      " [670]\n",
      " [813]\n",
      " [674]\n",
      " [688]\n",
      " [869]\n",
      " [427]\n",
      " [465]\n",
      " [198]\n",
      " [115]\n",
      " [ 29]] None\n"
     ]
    },
    {
     "data": {
      "text/html": [
       "<div>\n",
       "<style scoped>\n",
       "    .dataframe tbody tr th:only-of-type {\n",
       "        vertical-align: middle;\n",
       "    }\n",
       "\n",
       "    .dataframe tbody tr th {\n",
       "        vertical-align: top;\n",
       "    }\n",
       "\n",
       "    .dataframe thead th {\n",
       "        text-align: right;\n",
       "    }\n",
       "</style>\n",
       "<table border=\"1\" class=\"dataframe\">\n",
       "  <thead>\n",
       "    <tr style=\"text-align: right;\">\n",
       "      <th></th>\n",
       "      <th>x</th>\n",
       "      <th>y</th>\n",
       "    </tr>\n",
       "  </thead>\n",
       "  <tbody>\n",
       "    <tr>\n",
       "      <th>0</th>\n",
       "      <td>765</td>\n",
       "      <td>2742.5</td>\n",
       "    </tr>\n",
       "    <tr>\n",
       "      <th>1</th>\n",
       "      <td>212</td>\n",
       "      <td>807.0</td>\n",
       "    </tr>\n",
       "    <tr>\n",
       "      <th>2</th>\n",
       "      <td>235</td>\n",
       "      <td>887.5</td>\n",
       "    </tr>\n",
       "    <tr>\n",
       "      <th>3</th>\n",
       "      <td>654</td>\n",
       "      <td>2354.0</td>\n",
       "    </tr>\n",
       "    <tr>\n",
       "      <th>4</th>\n",
       "      <td>476</td>\n",
       "      <td>1731.0</td>\n",
       "    </tr>\n",
       "  </tbody>\n",
       "</table>\n",
       "</div>"
      ],
      "text/plain": [
       "     x       y\n",
       "0  765  2742.5\n",
       "1  212   807.0\n",
       "2  235   887.5\n",
       "3  654  2354.0\n",
       "4  476  1731.0"
      ]
     },
     "execution_count": 75,
     "metadata": {},
     "output_type": "execute_result"
    }
   ],
   "source": [
    "test = pd.read_csv(\"testing.csv\")\n",
    "print(\"data:{}\".format(test.head()))\n",
    "testX = test['x'].values.reshape(-1,1)\n",
    "print(testX, np.info(testX))\n",
    "testY = model.predict(testX)\n",
    "test['y']=testY\n",
    "test.head()"
   ]
  },
  {
   "cell_type": "code",
   "execution_count": 76,
   "metadata": {},
   "outputs": [],
   "source": [
    "# write data to result.csv with overwrite if file is exists.\n",
    "test.to_csv(\"result2.csv\",index=False, mode='w')"
   ]
  },
  {
   "cell_type": "code",
   "execution_count": null,
   "metadata": {},
   "outputs": [],
   "source": []
  }
 ],
 "metadata": {
  "kernelspec": {
   "display_name": "Python 3",
   "language": "python",
   "name": "python3"
  },
  "language_info": {
   "codemirror_mode": {
    "name": "ipython",
    "version": 3
   },
   "file_extension": ".py",
   "mimetype": "text/x-python",
   "name": "python",
   "nbconvert_exporter": "python",
   "pygments_lexer": "ipython3",
   "version": "3.7.3"
  }
 },
 "nbformat": 4,
 "nbformat_minor": 2
}

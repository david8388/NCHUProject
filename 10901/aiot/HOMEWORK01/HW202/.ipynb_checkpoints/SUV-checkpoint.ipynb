{
 "cells": [
  {
   "cell_type": "markdown",
   "metadata": {},
   "source": [
    "# Import packages"
   ]
  },
  {
   "cell_type": "code",
   "execution_count": 85,
   "metadata": {},
   "outputs": [],
   "source": [
    "from sklearn.linear_model import LogisticRegression as LR\n",
    "from sklearn.model_selection import train_test_split\n",
    "from sklearn import preprocessing\n",
    "import matplotlib.pyplot as plt\n",
    "import pandas as pd"
   ]
  },
  {
   "cell_type": "code",
   "execution_count": 95,
   "metadata": {},
   "outputs": [
    {
     "name": "stdout",
     "output_type": "stream",
     "text": [
      "[0 0 0 0 0 0 0 0 0 0 0 0 0 0 0 0 0 0 0 0 0 0 0 0 0 0 0 0 0 0 0 0 0 0 0 0 0\n",
      " 0 0 0 0 0 0 0 0 0 0 0 0 0 0 0 0 0 0 0 0 0 0 0 0 0 0 0 0 0 0 0 0 0 0 0 0 0\n",
      " 0 0 0 0 0 0 0 0 0 0 0 0 0 0 0 0 0 0 0 0 0 0 0 0 0 0]\n"
     ]
    },
    {
     "name": "stderr",
     "output_type": "stream",
     "text": [
      "//anaconda3/lib/python3.7/site-packages/sklearn/linear_model/logistic.py:432: FutureWarning: Default solver will be changed to 'lbfgs' in 0.22. Specify a solver to silence this warning.\n",
      "  FutureWarning)\n",
      "//anaconda3/lib/python3.7/site-packages/sklearn/utils/validation.py:724: DataConversionWarning: A column-vector y was passed when a 1d array was expected. Please change the shape of y to (n_samples, ), for example using ravel().\n",
      "  y = column_or_1d(y, warn=True)\n"
     ]
    }
   ],
   "source": [
    "data = pd.read_csv('Social_Network_Ads.csv')\n",
    "\n",
    "# use 300 people's age and estimated salary to train data\n",
    "X = data[['Age', 'EstimatedSalary']]\n",
    "Y = data[['Purchased']]\n",
    "Train_X,Test_X,Train_Y,Test_Y=train_test_split(X,Y,test_size=0.25, shuffle=False)\n",
    "\n",
    "model = LR()\n",
    "model.fit(Train_X, Train_Y)\n",
    "predY = model.predict(Test_X)\n",
    "print(predY)\n",
    "\n",
    "#X_WITH_Gender = data[['Gender', 'Age', 'EstimatedSalary']]\n",
    "#label_encoder = preprocessing.LabelEncoder()\n",
    "#encoded_Sex = label_encoder.fit_transform(data[\"Gender\"])\n",
    "#data[\"Gender\"]=encoded_Sex\n",
    "\n",
    "#X = data[['Gender','Age', 'EstimatedSalary']]\n",
    "#Y = data[['Purchased']]\n",
    "#Train_X,Test_X,Train_Y,Test_Y=train_test_split(X,Y,test_size=0.25)\n",
    "\n",
    "#model = LR()\n",
    "#model.fit(Train_X, Train_Y)\n",
    "#predY = model.predict(Test_X)\n",
    "#print(predY)"
   ]
  },
  {
   "cell_type": "code",
   "execution_count": null,
   "metadata": {},
   "outputs": [],
   "source": []
  }
 ],
 "metadata": {
  "kernelspec": {
   "display_name": "Python 3",
   "language": "python",
   "name": "python3"
  },
  "language_info": {
   "codemirror_mode": {
    "name": "ipython",
    "version": 3
   },
   "file_extension": ".py",
   "mimetype": "text/x-python",
   "name": "python",
   "nbconvert_exporter": "python",
   "pygments_lexer": "ipython3",
   "version": "3.7.3"
  }
 },
 "nbformat": 4,
 "nbformat_minor": 2
}

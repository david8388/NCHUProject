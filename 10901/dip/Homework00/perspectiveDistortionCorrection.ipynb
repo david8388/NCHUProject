{
 "cells": [
  {
   "cell_type": "code",
   "execution_count": 178,
   "metadata": {},
   "outputs": [],
   "source": [
    "import numpy as np\n",
    "from PIL import Image"
   ]
  },
  {
   "cell_type": "code",
   "execution_count": 179,
   "metadata": {},
   "outputs": [],
   "source": [
    "def transform(targetX,targetY):\n",
    "    temp = np.array([targetX, targetY, targetX*targetY, 1])\n",
    "    x, y = solveEquations()\n",
    "    originalX = np.sum(np.matmul(temp, x))\n",
    "    originalY = np.sum(np.matmul(temp, y))\n",
    "    return originalX,originalY"
   ]
  },
  {
   "cell_type": "code",
   "execution_count": 180,
   "metadata": {},
   "outputs": [],
   "source": [
    "def solveEquations():\n",
    "    if not cache:\n",
    "        a = np.mat('0,0,0,1; {},0,0,1,; 0,{},0,1; {},{},{},1'.format(width, height, width, height, width * height))     # Reference by x = ax' + by' + cx'y' + d\n",
    "        b = np.mat('{},{},{},{}'.format(coordinatesOfX[0], coordinatesOfX[1], coordinatesOfX[2], coordinatesOfX[3])).T  # Reference by y = ex' + fy' + gx'y' + h\n",
    "        c = a\n",
    "        d = np.mat('{},{},{},{}'.format(coordinatesOfY[0], coordinatesOfY[1], coordinatesOfY[2], coordinatesOfY[3])).T  # Reference by y = ex' + fy' + gx'y' + h\n",
    "        x = np.linalg.solve(a,b)\n",
    "        y = np.linalg.solve(c,d)\n",
    "        cache['x'] = x\n",
    "        cache['y'] = y\n",
    "    return cache['x'], cache['y']"
   ]
  },
  {
   "cell_type": "code",
   "execution_count": 190,
   "metadata": {},
   "outputs": [],
   "source": [
    "def execBilinearInterpolation(x,y, targetX, targetY):\n",
    "    # formula f2(x,y) = (1-a)(1-b)gs(l,k)+ a(1-b)gs(l+1,k) + (1-a)(1-b)bgs(l,k+1)+ abgs(l+1,k+1)\n",
    "    intX = int(x)\n",
    "    intY = int(y)\n",
    "    # d2 means distanceTo \n",
    "    d2TopLeft = (intX + 1 - x)* (intY + 1 - y) # alias d2TL\n",
    "    d2TopRight = (x - intX)* (intY + 1 - y)    # alias d2TR\n",
    "    d2BottomLeft = (x - intX)* (y - intY)      # alias d2BL\n",
    "    d2BottomRight = (intX + 1 - x)* (y - intY) # alias d2BR\n",
    "\n",
    "    d2TLR, d2TLG, d2TLB = pixels[intX,y]\n",
    "    d2TRR, d2TRG, d2TRB = pixels[intX + 1,y]\n",
    "    d2BLR, d2BLG, d2BLB = pixels[intX + 1,intY +1]\n",
    "    d2BRR, d2BRG, d2BRB = pixels[intX, intY + 1]\n",
    "    targetImagePixels[targetX, targetY] = \\\n",
    "    int((d2TopLeft * d2TLR + d2TopRight * d2TRR + d2BottomLeft * d2BLR + d2BottomRight * d2BRR)), \\\n",
    "    int((d2TopLeft * d2TLG + d2TopRight * d2TRG + d2BottomLeft * d2BLG + d2BottomRight * d2BRG)), \\\n",
    "    int((d2TopLeft * d2TLB + d2TopRight * d2TRB + d2BottomLeft * d2BLB + d2BottomRight * d2BRB))"
   ]
  },
  {
   "cell_type": "code",
   "execution_count": 192,
   "metadata": {},
   "outputs": [],
   "source": [
    "# Image shape is 1108 x 1478\n",
    "#sourceImage = cv2.imread('dante.jpg')\n",
    "#(sourceImageHeight, sourceImageWidth, sourceImageChannels) = sourceImage.shape\n",
    "image = Image.open('dante.jpg', \"r\")\n",
    "sourceImageWidth, sourceImageHeight = image.size\n",
    "pixels = image.load()\n",
    "\n",
    "# Set up the target image size(300 x 400)\n",
    "height = 400\n",
    "width = 300\n",
    "targetImage = Image.new(\"RGB\", (width,height))\n",
    "targetImagePixels = targetImage.load()\n",
    "\n",
    "# coordinate of an item which wants to do the geometric transformation\n",
    "# the coordinate are in order: top left, top right, bottom left, bottom right\n",
    "coordinates = np.array([[320, 494], [750, 487], [278, 863], [833, 845]])\n",
    "coordinatesOfX = np.array([coordinates[0][0], coordinates[1][0], coordinates[2][0], coordinates[3][0]])\n",
    "coordinatesOfY = np.array([coordinates[0][1], coordinates[1][1], coordinates[2][1], coordinates[3][1]])\n",
    "\n",
    "# cache for equations\n",
    "cache = {}\n",
    "\n",
    "for y in range(0, height):\n",
    "    for x in range(0, width):\n",
    "        originalX, originalY = transform(x, y)\n",
    "        execBilinearInterpolation(originalX, originalY, x, y)\n",
    "targetImage.save('newDante.jpg')"
   ]
  },
  {
   "cell_type": "code",
   "execution_count": null,
   "metadata": {},
   "outputs": [],
   "source": []
  },
  {
   "cell_type": "code",
   "execution_count": null,
   "metadata": {},
   "outputs": [],
   "source": []
  }
 ],
 "metadata": {
  "kernelspec": {
   "display_name": "Python 3",
   "language": "python",
   "name": "python3"
  },
  "language_info": {
   "codemirror_mode": {
    "name": "ipython",
    "version": 3
   },
   "file_extension": ".py",
   "mimetype": "text/x-python",
   "name": "python",
   "nbconvert_exporter": "python",
   "pygments_lexer": "ipython3",
   "version": "3.7.3"
  }
 },
 "nbformat": 4,
 "nbformat_minor": 2
}

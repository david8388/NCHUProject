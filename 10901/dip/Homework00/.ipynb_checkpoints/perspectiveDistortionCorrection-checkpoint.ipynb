{
 "cells": [
  {
   "cell_type": "code",
   "execution_count": 52,
   "metadata": {},
   "outputs": [],
   "source": [
    "import numpy as np\n",
    "from PIL import Image\n",
    "import math"
   ]
  },
  {
   "cell_type": "code",
   "execution_count": 35,
   "metadata": {},
   "outputs": [],
   "source": [
    "def targetCoordToOriginalCoord(targetX,targetY):\n",
    "    temp = np.array([targetX, targetY, targetX*targetY, 1])\n",
    "    x, y = solveEquations()\n",
    "    originalX = np.sum(np.matmul(temp, x))\n",
    "    originalY = np.sum(np.matmul(temp, y))\n",
    "    return originalX, originalY"
   ]
  },
  {
   "cell_type": "code",
   "execution_count": 36,
   "metadata": {},
   "outputs": [],
   "source": [
    "def solveEquations():\n",
    "    if not cache:\n",
    "        # Ref from https://zhuanlan.zhihu.com/p/24893371\n",
    "        # We have four corners, so we need four equations\n",
    "        a = np.mat('0,0,0,1; {},0,0,1,; 0,{},0,1; {},{},{},1'.format(width, height, width, height, width * height))     # Reference by x = ax' + by' + cx'y' + d\n",
    "        b = np.mat('{},{},{},{}'.format(coordinatesOfX[0], coordinatesOfX[1], coordinatesOfX[2], coordinatesOfX[3])).T  # Reference by y = ex' + fy' + gx'y' + h\n",
    "        c = np.mat('{},{},{},{}'.format(coordinatesOfY[0], coordinatesOfY[1], coordinatesOfY[2], coordinatesOfY[3])).T  # Reference by y = ex' + fy' + gx'y' + h\n",
    "        x = np.linalg.solve(a,b)\n",
    "        y = np.linalg.solve(a,c)\n",
    "        cache['x'] = x\n",
    "        cache['y'] = y\n",
    "    return cache['x'], cache['y']"
   ]
  },
  {
   "cell_type": "code",
   "execution_count": 118,
   "metadata": {},
   "outputs": [],
   "source": [
    "def execBilinearInterpolation(x,y, targetX, targetY):\n",
    "    # if x/y is on the point, we can skip the bilinear interpolation\n",
    "    if x.is_integer() and y.is_integer():\n",
    "        targetImagePixels[targetX, targetY] = pixels[x, y]\n",
    "        return \n",
    "    # formula f2(x,y) = (1-a)(1-b)gs(l,k)+ a(1-b)gs(l+1,k) + (1-a)(1-b)bgs(l,k+1)+ abgs(l+1,k+1)\n",
    "    \n",
    "    # to prevent ceil is equal floor\n",
    "    # e.g: if x is 363.0, then floor will be 363 and ceil will be 364\n",
    "    ceilOfX = math.ceil(x) if math.ceil(x) != x else math.ceil(x) + 1\n",
    "    ceilOfY = math.ceil(y) if math.ceil(y) != y else math.ceil(y) + 1 \n",
    "    floorOfX = math.floor(x)\n",
    "    floorOfY = math.floor(y)\n",
    "\n",
    "    # calculate weight (value will be percentage)\n",
    "    # Note that TL means Top left, TR means Top right, BL means Bottom left, and BR means Bottom right\n",
    "    pctOfTL = (ceilOfX - x) * (ceilOfY - y)         \n",
    "    pctOfTR = (x - floorOfX) * (ceilOfY - y)     \n",
    "    pctOfBL = (x - floorOfX) * (y - floorOfY)  \n",
    "    pctOfBR = (ceilOfX - x) * (y - floorOfY)  \n",
    "    \n",
    "    d2TLR, d2TLG, d2TLB = pixels[floorOfX, floorOfY]\n",
    "    d2TRR, d2TRG, d2TRB = pixels[ceilOfX, floorOfY]\n",
    "    d2BLR, d2BLG, d2BLB = pixels[ceilOfX, ceilOfY]\n",
    "    d2BRR, d2BRG, d2BRB = pixels[floorOfX, ceilOfY]\n",
    "    \n",
    "    targetImagePixels[targetX, targetY] = \\\n",
    "    int((pctOfTL * d2TLR + pctOfTR * d2TRR + pctOfBL * d2BLR + pctOfBR * d2BRR)), \\\n",
    "    int((pctOfTL * d2TLG + pctOfTR * d2TRG + pctOfBL * d2BLG + pctOfBR * d2BRG)), \\\n",
    "    int((pctOfTL * d2TLB + pctOfTR * d2TRB + pctOfBL * d2BLB + pctOfBR * d2BRB))"
   ]
  },
  {
   "cell_type": "code",
   "execution_count": 119,
   "metadata": {},
   "outputs": [],
   "source": [
    "image = Image.open('dante.jpg', \"r\")\n",
    "\n",
    "# 1108 x 1478 photo frame\n",
    "sourceImageWidth, sourceImageHeight = image.size\n",
    "pixels = image.load()\n",
    "\n",
    "# Set up the target photo frame\n",
    "height = 300\n",
    "width = 300\n",
    "targetImage = Image.new(\"RGB\", (width,height))\n",
    "targetImagePixels = targetImage.load()\n",
    "\n",
    "# coordinate of an item which wants to do the geometric transformation\n",
    "# the coordinate are in order: top left, top right, bottom left, bottom right\n",
    "coordinates = np.array([[320, 494], [750, 487], [278, 863], [833, 845]])\n",
    "coordinatesOfX = np.array([coordinates[0][0], coordinates[1][0], coordinates[2][0], coordinates[3][0]])\n",
    "coordinatesOfY = np.array([coordinates[0][1], coordinates[1][1], coordinates[2][1], coordinates[3][1]])\n",
    "\n",
    "# cache for a solution of an equation\n",
    "cache = {}\n",
    "\n",
    "for y in range(0, height):\n",
    "    for x in range(0, width):\n",
    "        originalX, originalY = targetCoordToOriginalCoord(x, y)\n",
    "        execBilinearInterpolation(originalX, originalY, x, y)\n",
    "targetImage.save('newDante.jpg')"
   ]
  },
  {
   "cell_type": "code",
   "execution_count": null,
   "metadata": {},
   "outputs": [],
   "source": []
  }
 ],
 "metadata": {
  "kernelspec": {
   "display_name": "Python 3",
   "language": "python",
   "name": "python3"
  },
  "language_info": {
   "codemirror_mode": {
    "name": "ipython",
    "version": 3
   },
   "file_extension": ".py",
   "mimetype": "text/x-python",
   "name": "python",
   "nbconvert_exporter": "python",
   "pygments_lexer": "ipython3",
   "version": "3.7.3"
  }
 },
 "nbformat": 4,
 "nbformat_minor": 2
}

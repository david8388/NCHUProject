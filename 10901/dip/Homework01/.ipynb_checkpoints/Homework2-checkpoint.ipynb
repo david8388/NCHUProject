{
 "cells": [
  {
   "cell_type": "code",
   "execution_count": 308,
   "metadata": {},
   "outputs": [],
   "source": [
    "import numpy as np\n",
    "from PIL import Image\n",
    "import matplotlib.pyplot as plt"
   ]
  },
  {
   "cell_type": "code",
   "execution_count": 309,
   "metadata": {},
   "outputs": [],
   "source": [
    "\"\"\"\n",
    "Use the following two masks.\n",
    "[+1 0 -1   \n",
    " +2 0 -2\n",
    " +1 0 -1]\n",
    "Vertical\n",
    "\n",
    "[+1 +2 +1\n",
    "  0  0  0\n",
    " -1 -2 -1]\n",
    "Horizontal\n",
    "\"\"\"\n",
    "def sobelOperator(img):\n",
    "    container = np.copy(img)\n",
    "    imgArray = np.array(img, dtype=float)\n",
    "    size = img.size\n",
    "    for i in range(1, size[0] -1):\n",
    "        for j in range(1, size[1] -1):\n",
    "            gx = abs((imgArray[i-1,j-1] + 2*imgArray[i,j-1] + imgArray[i+1,j-1]) - \\\n",
    "                     (imgArray[i-1,j+1] + 2*imgArray[i,j+1] + imgArray[i+1,j+1]))\n",
    "            gy = abs((imgArray[i-1,j-1] + 2*imgArray[i-1,j] + imgArray[i-1,j+1]) - \\\n",
    "                     (imgArray[i+1,j-1] + 2*imgArray[i+1,j] + imgArray[i+1,j+1]))\n",
    "            container[i,j] = min(gx+gy, 255)\n",
    "    return container"
   ]
  },
  {
   "cell_type": "code",
   "execution_count": 310,
   "metadata": {},
   "outputs": [],
   "source": [
    "def meanFilter(img):\n",
    "    container = np.copy(img)\n",
    "    imgArray = np.array(img, dtype=float)\n",
    "    size = img.shape\n",
    "    for i in range(1, size[0] -1):\n",
    "        for j in range(1, size[1] -1):\n",
    "            sumPixel = imgArray[i-1,j-1] + imgArray[i-1,j] + imgArray[i-1,j+1] \\\n",
    "                + imgArray[i,j-1] + imgArray[i,j] + imgArray[i,j+1] \\\n",
    "                + imgArray[i+1,j-1] + imgArray[i,j] + imgArray[i+1,j+1]\n",
    "            container[i,j] = int(sumPixel / 9)\n",
    "    return container"
   ]
  },
  {
   "cell_type": "code",
   "execution_count": 357,
   "metadata": {},
   "outputs": [],
   "source": [
    "def getNormalizationPixel(imgArray, i, j):\n",
    "    maxPixel = 255\n",
    "    return int(imgArray[i,j]) / maxPixel # value range from 0 to 1"
   ]
  },
  {
   "cell_type": "code",
   "execution_count": 362,
   "metadata": {},
   "outputs": [],
   "source": [
    "def normalizationAndPlusLaplacian(originalLena, meanLena, laplacianLena):\n",
    "    container = np.copy(originalLena)\n",
    "    originalArray = np.array(originalLena, dtype=float)\n",
    "    meanImgArray = np.array(meanLena, dtype=float)\n",
    "    laplacianImgArray = np.array(laplacianLena, dtype=float)\n",
    "    size = img.shape\n",
    "    for i in range(1, size[0] -1):\n",
    "        for j in range(1, size[1] -1):\n",
    "            normalizationPixel = getNormalizationPixel(meanImgArray, i, j)\n",
    "            laplacianPixel = laplacianImgArray[i,j]\n",
    "            container[i,j] = min(int(normalizationPixel*laplacianPixel) + originalArray[i,j], 255)\n",
    "    return container"
   ]
  },
  {
   "cell_type": "code",
   "execution_count": 352,
   "metadata": {},
   "outputs": [],
   "source": [
    "\"\"\"\n",
    "Use the following mask\n",
    "[1  1  1   \n",
    " 1 -8  1\n",
    " 1  1  1]\n",
    "\"\"\"\n",
    "def laplacian(img):\n",
    "    container = np.copy(img)\n",
    "    imgArray = np.array(img, dtype=float)\n",
    "    size = img.size\n",
    "    for i in range(1, size[0] -1):\n",
    "        for j in range(1, size[1] -1):\n",
    "            pixel = imgArray[i-1,j-1] + imgArray[i-1,j] + imgArray[i-1,j+1] \\\n",
    "                + imgArray[i,j-1] - 8*imgArray[i,j] + imgArray[i,j+1] \\\n",
    "                + imgArray[i+1,j-1] + imgArray[i,j] + imgArray[i+1,j+1]\n",
    "            container[i,j] = max(min(255,pixel), 0)\n",
    "    return container"
   ]
  },
  {
   "cell_type": "code",
   "execution_count": 363,
   "metadata": {},
   "outputs": [],
   "source": [
    "lena = Image.open('lena.jpg')\n",
    "laplacianLena = laplacian(lena)\n",
    "#output_laplacianLena = Image.fromarray(laplacianLena, 'L')\n",
    "#output_laplacianLena.save('laplacianLena.png')\n",
    "\n",
    "sobelLena = sobelOperator(lena)\n",
    "#output_sobelLena = Image.fromarray(sobelLena, 'L')\n",
    "#output_sobelLena.save('sobelLena.png')\n",
    "\n",
    "meanFilterLena = meanFilter(sobelLena)\n",
    "#output_meanFilterLena = Image.fromarray(meanFilterLena, 'L')\n",
    "#output_meanFilterLena.save('meanFilterLena.png')\n",
    "\n",
    "newLena = normalizationAndPlusLaplacian(lena, meanFilterLena, laplacianLena)\n",
    "output_newLena = Image.fromarray(newLena, 'L')\n",
    "output_newLena.save('newLena.png')\n"
   ]
  },
  {
   "cell_type": "code",
   "execution_count": 313,
   "metadata": {},
   "outputs": [
    {
     "name": "stdout",
     "output_type": "stream",
     "text": [
      "0 255\n"
     ]
    }
   ],
   "source": []
  },
  {
   "cell_type": "code",
   "execution_count": null,
   "metadata": {},
   "outputs": [],
   "source": []
  }
 ],
 "metadata": {
  "kernelspec": {
   "display_name": "Python 3",
   "language": "python",
   "name": "python3"
  },
  "language_info": {
   "codemirror_mode": {
    "name": "ipython",
    "version": 3
   },
   "file_extension": ".py",
   "mimetype": "text/x-python",
   "name": "python",
   "nbconvert_exporter": "python",
   "pygments_lexer": "ipython3",
   "version": "3.7.3"
  }
 },
 "nbformat": 4,
 "nbformat_minor": 2
}
